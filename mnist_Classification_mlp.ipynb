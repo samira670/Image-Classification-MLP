{
  "nbformat": 4,
  "nbformat_minor": 0,
  "metadata": {
    "colab": {
      "provenance": [],
      "gpuType": "T4"
    },
    "kernelspec": {
      "name": "python3",
      "display_name": "Python 3"
    },
    "language_info": {
      "name": "python"
    },
    "accelerator": "GPU"
  },
  "cells": [
    {
      "cell_type": "code",
      "metadata": {
        "id": "tw_v0drLbwtq"
      },
      "source": [
        "from tensorflow.keras import datasets, utils, models, layers, optimizers, losses\n",
        "import numpy as np\n",
        "import matplotlib.pyplot as plt"
      ],
      "execution_count": null,
      "outputs": []
    },
    {
      "cell_type": "markdown",
      "metadata": {
        "id": "hBXx5bGGcORL"
      },
      "source": [
        "## Data Preparation"
      ]
    },
    {
      "cell_type": "code",
      "metadata": {
        "id": "Da6YgL0ucNu0",
        "colab": {
          "base_uri": "https://localhost:8080/"
        },
        "outputId": "f065d727-c96a-4332-af30-228861e409ec"
      },
      "source": [
        "(train_images, train_labels), (test_images, test_labels) = datasets.mnist.load_data()\n",
        "\n",
        "# Preprocessing\n",
        "X_train = train_images.reshape(60000, 784)\n",
        "X_test = test_images.reshape(10000, 784)\n",
        "\n",
        "# Normalizing (0-1)\n",
        "X_train = X_train.astype('float32') / 255\n",
        "X_test =  X_test.astype('float32') / 255\n",
        "\n",
        "Y_train = utils.to_categorical(train_labels)\n",
        "Y_test = utils.to_categorical(test_labels)\n",
        "\n",
        "print(train_labels[0])\n",
        "print(Y_train[0])"
      ],
      "execution_count": null,
      "outputs": [
        {
          "output_type": "stream",
          "name": "stdout",
          "text": [
            "Downloading data from https://storage.googleapis.com/tensorflow/tf-keras-datasets/mnist.npz\n",
            "11490434/11490434 [==============================] - 0s 0us/step\n",
            "5\n",
            "[0. 0. 0. 0. 0. 1. 0. 0. 0. 0.]\n"
          ]
        }
      ]
    },
    {
      "cell_type": "code",
      "metadata": {
        "id": "-LjCdbeHd7k7",
        "colab": {
          "base_uri": "https://localhost:8080/",
          "height": 144
        },
        "outputId": "0ff2dba1-a751-4b52-f324-65e1ef0f1684"
      },
      "source": [
        "# Visualize Sample Training Data\n",
        "for i in range(5):\n",
        "    plt.subplot(1,5,i+1)\n",
        "    plt.imshow(train_images[i], cmap='gray')\n",
        "    plt.title(train_labels[i])\n",
        "    plt.axis('off')"
      ],
      "execution_count": null,
      "outputs": [
        {
          "output_type": "display_data",
          "data": {
            "text/plain": [
              "<Figure size 640x480 with 5 Axes>"
            ],
            "image/png": "[encoded data removed]"
          },
          "metadata": {}
        }
      ]
    },
    {
      "cell_type": "markdown",
      "metadata": {
        "id": "dLbbih0XcuWD"
      },
      "source": [
        "## Model Creation"
      ]
    },
    {
      "cell_type": "code",
      "metadata": {
        "id": "JsaXsM0wcwnw",
        "colab": {
          "base_uri": "https://localhost:8080/"
        },
        "outputId": "cfa92ee5-68c6-41a6-cc0f-fab7b9d84219"
      },
      "source": [
        "myModel = models.Sequential()\n",
        "myModel.add(layers.Dense(500, activation='relu', input_shape=(784,)))\n",
        "myModel.add(layers.Dense(100, activation='relu'))\n",
        "myModel.add(layers.Dense(10, activation='softmax'))\n",
        "\n",
        "myModel.summary()\n",
        "myModel.compile(optimizer=optimizers.SGD(lr=0.001), loss=losses.categorical_crossentropy)"
      ],
      "execution_count": null,
      "outputs": [
        {
          "output_type": "stream",
          "name": "stdout",
          "text": [
            "Model: \"sequential\"\n",
            "_________________________________________________________________\n",
            " Layer (type)                Output Shape              Param #   \n",
            "=================================================================\n",
            " dense (Dense)               (None, 500)               392500    \n",
            "                                                                 \n",
            " dense_1 (Dense)             (None, 100)               50100     \n",
            "                                                                 \n",
            " dense_2 (Dense)             (None, 10)                1010      \n",
            "                                                                 \n",
            "=================================================================\n",
            "Total params: 443,610\n",
            "Trainable params: 443,610\n",
            "Non-trainable params: 0\n",
            "_________________________________________________________________\n"
          ]
        },
        {
          "output_type": "stream",
          "name": "stderr",
          "text": [
            "WARNING:absl:`lr` is deprecated in Keras optimizer, please use `learning_rate` or use the legacy optimizer, e.g.,tf.keras.optimizers.legacy.SGD.\n"
          ]
        }
      ]
    },
    {
      "cell_type": "markdown",
      "metadata": {
        "id": "z-IJoGIYc9Vi"
      },
      "source": [
        "## Train and Evaluation"
      ]
    },
    {
      "cell_type": "code",
      "metadata": {
        "id": "qXY3suDTdAGa",
        "colab": {
          "base_uri": "https://localhost:8080/"
        },
        "outputId": "d61511ab-f5f7-4cea-d67c-f46333e1a8e8"
      },
      "source": [
        "history = myModel.fit(X_train, Y_train, batch_size=128, epochs=50, validation_split=0.2)"
      ],
      "execution_count": null,
      "outputs": [
        {
          "output_type": "stream",
          "name": "stdout",
          "text": [
            "Epoch 1/50\n",
            "375/375 [==============================] - 7s 4ms/step - loss: 1.3085 - val_loss: 0.6439\n",
            "Epoch 2/50\n",
            "375/375 [==============================] - 1s 3ms/step - loss: 0.5304 - val_loss: 0.4134\n",
            "Epoch 3/50\n",
            "375/375 [==============================] - 1s 3ms/step - loss: 0.4007 - val_loss: 0.3459\n",
            "Epoch 4/50\n",
            "375/375 [==============================] - 2s 5ms/step - loss: 0.3493 - val_loss: 0.3131\n",
            "Epoch 5/50\n",
            "375/375 [==============================] - 2s 4ms/step - loss: 0.3185 - val_loss: 0.2907\n",
            "Epoch 6/50\n",
            "375/375 [==============================] - 1s 3ms/step - loss: 0.2964 - val_loss: 0.2735\n",
            "Epoch 7/50\n",
            "375/375 [==============================] - 1s 4ms/step - loss: 0.2790 - val_loss: 0.2591\n",
            "Epoch 8/50\n",
            "375/375 [==============================] - 1s 3ms/step - loss: 0.2640 - val_loss: 0.2487\n",
            "Epoch 9/50\n",
            "375/375 [==============================] - 1s 3ms/step - loss: 0.2517 - val_loss: 0.2387\n",
            "Epoch 10/50\n",
            "375/375 [==============================] - 1s 4ms/step - loss: 0.2402 - val_loss: 0.2309\n",
            "Epoch 11/50\n",
            "375/375 [==============================] - 1s 4ms/step - loss: 0.2304 - val_loss: 0.2208\n",
            "Epoch 12/50\n",
            "375/375 [==============================] - 1s 3ms/step - loss: 0.2209 - val_loss: 0.2144\n",
            "Epoch 13/50\n",
            "375/375 [==============================] - 2s 4ms/step - loss: 0.2124 - val_loss: 0.2069\n",
            "Epoch 14/50\n",
            "375/375 [==============================] - 2s 4ms/step - loss: 0.2043 - val_loss: 0.2013\n",
            "Epoch 15/50\n",
            "375/375 [==============================] - 1s 3ms/step - loss: 0.1968 - val_loss: 0.1953\n",
            "Epoch 16/50\n",
            "375/375 [==============================] - 1s 3ms/step - loss: 0.1898 - val_loss: 0.1889\n",
            "Epoch 17/50\n",
            "375/375 [==============================] - 1s 3ms/step - loss: 0.1835 - val_loss: 0.1833\n",
            "Epoch 18/50\n",
            "375/375 [==============================] - 1s 4ms/step - loss: 0.1772 - val_loss: 0.1795\n",
            "Epoch 19/50\n",
            "375/375 [==============================] - 1s 3ms/step - loss: 0.1712 - val_loss: 0.1751\n",
            "Epoch 20/50\n",
            "375/375 [==============================] - 1s 4ms/step - loss: 0.1661 - val_loss: 0.1701\n",
            "Epoch 21/50\n",
            "375/375 [==============================] - 1s 4ms/step - loss: 0.1607 - val_loss: 0.1656\n",
            "Epoch 22/50\n",
            "375/375 [==============================] - 1s 4ms/step - loss: 0.1557 - val_loss: 0.1633\n",
            "Epoch 23/50\n",
            "375/375 [==============================] - 2s 5ms/step - loss: 0.1513 - val_loss: 0.1603\n",
            "Epoch 24/50\n",
            "375/375 [==============================] - 1s 4ms/step - loss: 0.1468 - val_loss: 0.1556\n",
            "Epoch 25/50\n",
            "375/375 [==============================] - 1s 3ms/step - loss: 0.1425 - val_loss: 0.1523\n",
            "Epoch 26/50\n",
            "375/375 [==============================] - 1s 3ms/step - loss: 0.1386 - val_loss: 0.1497\n",
            "Epoch 27/50\n",
            "375/375 [==============================] - 1s 3ms/step - loss: 0.1348 - val_loss: 0.1462\n",
            "Epoch 28/50\n",
            "375/375 [==============================] - 1s 4ms/step - loss: 0.1311 - val_loss: 0.1437\n",
            "Epoch 29/50\n",
            "375/375 [==============================] - 1s 3ms/step - loss: 0.1278 - val_loss: 0.1417\n",
            "Epoch 30/50\n",
            "375/375 [==============================] - 1s 4ms/step - loss: 0.1245 - val_loss: 0.1393\n",
            "Epoch 31/50\n",
            "375/375 [==============================] - 2s 4ms/step - loss: 0.1213 - val_loss: 0.1368\n",
            "Epoch 32/50\n",
            "375/375 [==============================] - 2s 5ms/step - loss: 0.1183 - val_loss: 0.1349\n",
            "Epoch 33/50\n",
            "375/375 [==============================] - 1s 4ms/step - loss: 0.1153 - val_loss: 0.1340\n",
            "Epoch 34/50\n",
            "375/375 [==============================] - 1s 4ms/step - loss: 0.1125 - val_loss: 0.1332\n",
            "Epoch 35/50\n",
            "375/375 [==============================] - 1s 3ms/step - loss: 0.1099 - val_loss: 0.1298\n",
            "Epoch 36/50\n",
            "375/375 [==============================] - 1s 4ms/step - loss: 0.1074 - val_loss: 0.1271\n",
            "Epoch 37/50\n",
            "375/375 [==============================] - 1s 3ms/step - loss: 0.1049 - val_loss: 0.1255\n",
            "Epoch 38/50\n",
            "375/375 [==============================] - 1s 4ms/step - loss: 0.1025 - val_loss: 0.1241\n",
            "Epoch 39/50\n",
            "375/375 [==============================] - 1s 3ms/step - loss: 0.1001 - val_loss: 0.1235\n",
            "Epoch 40/50\n",
            "375/375 [==============================] - 2s 4ms/step - loss: 0.0978 - val_loss: 0.1217\n",
            "Epoch 41/50\n",
            "375/375 [==============================] - 2s 5ms/step - loss: 0.0958 - val_loss: 0.1194\n",
            "Epoch 42/50\n",
            "375/375 [==============================] - 1s 4ms/step - loss: 0.0937 - val_loss: 0.1185\n",
            "Epoch 43/50\n",
            "375/375 [==============================] - 1s 4ms/step - loss: 0.0918 - val_loss: 0.1171\n",
            "Epoch 44/50\n",
            "375/375 [==============================] - 1s 3ms/step - loss: 0.0896 - val_loss: 0.1168\n",
            "Epoch 45/50\n",
            "375/375 [==============================] - 1s 3ms/step - loss: 0.0879 - val_loss: 0.1147\n",
            "Epoch 46/50\n",
            "375/375 [==============================] - 1s 4ms/step - loss: 0.0861 - val_loss: 0.1131\n",
            "Epoch 47/50\n",
            "375/375 [==============================] - 1s 4ms/step - loss: 0.0842 - val_loss: 0.1124\n",
            "Epoch 48/50\n",
            "375/375 [==============================] - 1s 4ms/step - loss: 0.0826 - val_loss: 0.1109\n",
            "Epoch 49/50\n",
            "375/375 [==============================] - 2s 4ms/step - loss: 0.0808 - val_loss: 0.1109\n",
            "Epoch 50/50\n",
            "375/375 [==============================] - 2s 4ms/step - loss: 0.0792 - val_loss: 0.1099\n"
          ]
        }
      ]
    },
    {
      "cell_type": "code",
      "metadata": {
        "id": "f_EfMOGLdBdR",
        "colab": {
          "base_uri": "https://localhost:8080/",
          "height": 466
        },
        "outputId": "eebbe6a7-2a8f-4c38-c89d-8e354d4a5709"
      },
      "source": [
        "# Plot Losses\n",
        "losses = history.history['loss']\n",
        "val_losses = history.history['val_loss']\n",
        "\n",
        "plt.plot(losses)\n",
        "plt.plot(val_losses)\n",
        "plt.xlabel('Epochs')\n",
        "plt.ylabel('Loss')\n",
        "plt.legend(['loss', 'val_loss'])"
      ],
      "execution_count": null,
      "outputs": [
        {
          "output_type": "execute_result",
          "data": {
            "text/plain": [
              "<matplotlib.legend.Legend at 0x7f28acdf2350>"
            ]
          },
          "metadata": {},
          "execution_count": 6
        },
        {
          "output_type": "display_data",
          "data": {
            "text/plain": [
              "<Figure size 640x480 with 1 Axes>"
            ],
            "image/png": "[encoded data removed]"
          },
          "metadata": {}
        }
      ]
    },
    {
      "cell_type": "code",
      "metadata": {
        "id": "C2dtMgE2dEsa",
        "colab": {
          "base_uri": "https://localhost:8080/",
          "height": 209
        },
        "outputId": "0511a4af-189b-4c15-e670-7970c22959e6"
      },
      "source": [
        "# Evaluation on Test Data\n",
        "test_loss = myModel.evaluate(X_test, Y_test)\n",
        "print(\"test loss: \", test_loss)\n",
        "\n",
        "test_labels_p = myModel.predict(X_test)\n",
        "test_labels_p = np.argmax(test_labels_p, axis=1)\n",
        "\n",
        "n = 0\n",
        "f, axs = plt.subplots(1,10,figsize=(15,15))\n",
        "for i in range(len(test_labels)):\n",
        "    if n >= 10:\n",
        "      break\n",
        "    if (test_labels_p[i] == test_labels[i]):\n",
        "      axs[n].imshow(test_images[i], cmap='gray')\n",
        "      axs[n].set_title(f'{test_labels[i]} -> {test_labels_p[i]}')\n",
        "      axs[n].axis('off')\n",
        "      n = n+1"
      ],
      "execution_count": null,
      "outputs": [
        {
          "output_type": "stream",
          "name": "stdout",
          "text": [
            "313/313 [==============================] - 1s 3ms/step - loss: 0.1047\n",
            "test loss:  0.10470196604728699\n",
            "313/313 [==============================] - 1s 2ms/step\n"
          ]
        },
        {
          "output_type": "display_data",
          "data": {
            "text/plain": [
              "<Figure size 1500x1500 with 10 Axes>"
            ],
            "image/png": "[encoded data removed]"
          },
          "metadata": {}
        }
      ]
    }
  ]
}